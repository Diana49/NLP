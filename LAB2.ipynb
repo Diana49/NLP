{
 "cells": [
  {
   "cell_type": "code",
   "execution_count": 1,
   "metadata": {},
   "outputs": [
    {
     "data": {
      "text/plain": [
       "'determin'"
      ]
     },
     "execution_count": 1,
     "metadata": {},
     "output_type": "execute_result"
    }
   ],
   "source": [
    "from nltk.stem import PorterStemmer\n",
    "port = PorterStemmer()\n",
    "port.stem('determination')"
   ]
  },
  {
   "cell_type": "code",
   "execution_count": 8,
   "metadata": {},
   "outputs": [
    {
     "data": {
      "text/plain": [
       "'computer'"
      ]
     },
     "execution_count": 8,
     "metadata": {},
     "output_type": "execute_result"
    }
   ],
   "source": [
    "port = PorterStemmer()\n",
    "port.stem('computerization')"
   ]
  },
  {
   "cell_type": "code",
   "execution_count": 9,
   "metadata": {},
   "outputs": [
    {
     "data": {
      "text/plain": [
       "'happy'"
      ]
     },
     "execution_count": 9,
     "metadata": {},
     "output_type": "execute_result"
    }
   ],
   "source": [
    "from nltk.stem import LancasterStemmer\n",
    "lan = LancasterStemmer()\n",
    "lan.stem('happiness')"
   ]
  },
  {
   "cell_type": "code",
   "execution_count": 10,
   "metadata": {},
   "outputs": [
    {
     "data": {
      "text/plain": [
       "'paint'"
      ]
     },
     "execution_count": 10,
     "metadata": {},
     "output_type": "execute_result"
    }
   ],
   "source": [
    "lan = LancasterStemmer()\n",
    "lan.stem('painting')"
   ]
  },
  {
   "cell_type": "code",
   "execution_count": 13,
   "metadata": {},
   "outputs": [
    {
     "data": {
      "text/plain": [
       "'livr'"
      ]
     },
     "execution_count": 13,
     "metadata": {},
     "output_type": "execute_result"
    }
   ],
   "source": [
    "from nltk.stem import SnowballStemmer\n",
    "SnowballStemmer.languages\n",
    "fre= SnowballStemmer('french')\n",
    "fre.stem('livres')"
   ]
  },
  {
   "cell_type": "code",
   "execution_count": 14,
   "metadata": {},
   "outputs": [
    {
     "name": "stdout",
     "output_type": "stream",
     "text": [
      "googl translat is a free multilingu statist and neural machin translat servic develop by google, to translat text and websit from one languag into another.\n"
     ]
    }
   ],
   "source": [
    "stemmer = PorterStemmer()\n",
    "txt = \"Google Translate is a free multilingual statistical and neural machine translation service developed by Google, to translate text and websites from one language into another.\"\n",
    "txt = [stemmer.stem(token) for token in txt.split(\" \")]\n",
    "print(\" \".join(txt))"
   ]
  },
  {
   "cell_type": "code",
   "execution_count": 15,
   "metadata": {},
   "outputs": [
    {
     "name": "stdout",
     "output_type": "stream",
     "text": [
      "hI\n",
      "i\n",
      "am\n",
      "good\n"
     ]
    }
   ],
   "source": [
    "#Lemmatize\n",
    "from nltk.stem.wordnet import WordNetLemmatizer\n",
    "lemma = WordNetLemmatizer()\n",
    "print(lemma.lemmatize(\"hI\"))\n",
    "print(lemma.lemmatize(\"i\"))\n",
    "print(lemma.lemmatize(\"am\"))\n",
    "print(lemma.lemmatize(\"better\",pos='a')) \n"
   ]
  },
  {
   "cell_type": "code",
   "execution_count": 19,
   "metadata": {},
   "outputs": [
    {
     "name": "stdout",
     "output_type": "stream",
     "text": [
      "['Loneliness', 'can', 'be', 'normal', ',', 'and', 'is', 'only', 'an', 'indicator', 'of', 'underlying', 'disease', 'when', 'feelings', 'become', 'excessive', ',', 'all-consuming', 'and', 'interfere', 'with', 'daily', 'living', '.']\n"
     ]
    }
   ],
   "source": [
    "#text processing\n",
    "import nltk\n",
    "txt = [\"Loneliness can be normal, and is only an indicator of underlying disease when feelings become excessive, all-consuming and interfere with daily living.\"]\n",
    "for text in txt:\n",
    "    sentences = nltk.sent_tokenize(text)\n",
    "    for sentence in sentences:\n",
    "        words = nltk.word_tokenize(sentence)\n",
    "    print(words)"
   ]
  },
  {
   "cell_type": "code",
   "execution_count": 20,
   "metadata": {},
   "outputs": [
    {
     "name": "stdout",
     "output_type": "stream",
     "text": [
      "[('Loneliness', 'NN'), ('can', 'MD'), ('be', 'VB'), ('normal', 'JJ'), (',', ','), ('and', 'CC'), ('is', 'VBZ'), ('only', 'RB'), ('an', 'DT'), ('indicator', 'NN'), ('of', 'IN'), ('underlying', 'VBG'), ('disease', 'NN'), ('when', 'WRB'), ('feelings', 'VBZ'), ('become', 'VBN'), ('excessive', 'JJ'), (',', ','), ('all-consuming', 'JJ'), ('and', 'CC'), ('interfere', 'JJ'), ('with', 'IN'), ('daily', 'JJ'), ('living', 'NN'), ('.', '.')]\n"
     ]
    }
   ],
   "source": [
    "tagged = nltk.pos_tag(words)\n",
    "print(tagged)"
   ]
  },
  {
   "cell_type": "code",
   "execution_count": 21,
   "metadata": {},
   "outputs": [
    {
     "name": "stderr",
     "output_type": "stream",
     "text": [
      "[nltk_data] Downloading package gutenberg to\n",
      "[nltk_data]     C:\\Users\\danto\\AppData\\Roaming\\nltk_data...\n",
      "[nltk_data]   Package gutenberg is already up-to-date!\n"
     ]
    },
    {
     "data": {
      "text/plain": [
       "True"
      ]
     },
     "execution_count": 21,
     "metadata": {},
     "output_type": "execute_result"
    }
   ],
   "source": [
    "from nltk.corpus import gutenberg\n",
    "nltk.download('gutenberg')"
   ]
  },
  {
   "cell_type": "code",
   "execution_count": 22,
   "metadata": {},
   "outputs": [],
   "source": [
    "text_sample =  gutenberg.words(fileids='austen-sense.txt')[:200]"
   ]
  },
  {
   "cell_type": "code",
   "execution_count": 23,
   "metadata": {},
   "outputs": [
    {
     "data": {
      "text/plain": [
       "['[', 'Sense', 'and', 'Sensibility', 'by', 'Jane', ...]"
      ]
     },
     "execution_count": 23,
     "metadata": {},
     "output_type": "execute_result"
    }
   ],
   "source": [
    "text_sample"
   ]
  },
  {
   "cell_type": "code",
   "execution_count": 24,
   "metadata": {},
   "outputs": [
    {
     "name": "stdout",
     "output_type": "stream",
     "text": [
      "['[ Sense and Sensibility by Jane Austen 1811 ] CHAPTER 1 The family of Dashwood had long been settled in Sussex .', 'Their estate was large , and their residence was at Norland Park , in the centre of their property , where , for many generations , they had lived in so respectable a manner as to engage the general good opinion of their surrounding acquaintance .', 'The late owner of this estate was a single man , who lived to a very advanced age , and who for many years of his life , had a constant companion and housekeeper in his sister .', 'But her death , which happened ten years before his own , produced a great alteration in his home ; for to supply her loss , he invited and received into his house the family of his nephew Mr .', 'Henry Dashwood , the legal inheritor of the Norland estate , and the person to whom he intended to bequeath it .', \"In the society of his nephew and niece , and their children , the old Gentleman ' s days were comfortably spent .\", 'His attachment to them all increased .', 'The constant']\n"
     ]
    }
   ],
   "source": [
    "#tag and tokenize\n",
    "from nltk.tokenize import sent_tokenize\n",
    "concat=\" \".join(text_sample)\n",
    "token=sent_tokenize(concat)\n",
    "print(token)"
   ]
  },
  {
   "cell_type": "code",
   "execution_count": 25,
   "metadata": {},
   "outputs": [
    {
     "name": "stdout",
     "output_type": "stream",
     "text": [
      "[('[', 'JJ'), (' ', 'NNP'), ('S', 'NNP'), ('e', 'NN'), ('n', 'RB'), ('s', 'JJ'), ('e', 'NN'), (' ', 'VBD'), ('a', 'DT'), ('n', 'JJ'), ('d', 'NN'), (' ', 'NNP'), ('S', 'NNP'), ('e', 'NN'), ('n', 'IN'), ('s', 'NN'), ('i', 'NN'), ('b', 'VBP'), ('i', 'NN'), ('l', 'NN'), ('i', 'NN'), ('t', 'VBP'), ('y', 'NN'), (' ', 'NN'), ('b', 'NN'), ('y', 'NN'), (' ', 'NNP'), ('J', 'NNP'), ('a', 'DT'), ('n', 'JJ'), ('e', 'NN'), (' ', 'VBD'), ('A', 'NNP'), ('u', 'JJ'), ('s', 'NN'), ('t', 'NN'), ('e', 'NN'), ('n', 'JJ'), (' ', 'VBD'), ('1', 'CD'), ('8', 'CD'), ('1', 'CD'), ('1', 'CD'), (' ', 'NN'), (']', 'NNP'), (' ', 'NNP'), ('C', 'NNP'), ('H', 'NNP'), ('A', 'NNP'), ('P', 'NNP'), ('T', 'NNP'), ('E', 'NNP'), ('R', 'NNP'), (' ', 'VBD'), ('1', 'CD'), (' ', 'NNP'), ('T', 'NNP'), ('h', 'NN'), ('e', 'NN'), (' ', 'NNP'), ('f', 'VBZ'), ('a', 'DT'), ('m', 'NN'), ('i', 'NN'), ('l', 'VBP'), ('y', 'NN'), (' ', 'NNP'), ('o', 'VBZ'), ('f', 'JJ'), (' ', 'NNP'), ('D', 'NNP'), ('a', 'DT'), ('s', 'JJ'), ('h', 'NN'), ('w', 'NN'), ('o', 'NN'), ('o', 'NN'), ('d', 'NN'), (' ', 'NNP'), ('h', 'VBZ'), ('a', 'DT'), ('d', 'NN'), (' ', 'NNP'), ('l', 'NN'), ('o', 'NN'), ('n', 'JJ'), ('g', 'NN'), (' ', 'NN'), ('b', 'NN'), ('e', 'NN'), ('e', 'NN'), ('n', 'JJ'), (' ', 'NNP'), ('s', 'NN'), ('e', 'NN'), ('t', 'NN'), ('t', 'NN'), ('l', 'NN'), ('e', 'NN'), ('d', 'NN'), (' ', 'NN'), ('i', 'NN'), ('n', 'VBP'), (' ', 'JJ'), ('S', 'NNP'), ('u', 'NN'), ('s', 'NN'), ('s', 'NN'), ('e', 'NN'), ('x', 'NNP'), (' ', 'NNP'), ('.', '.'), (' ', 'VB'), ('T', 'NNP'), ('h', 'NN'), ('e', 'NN'), ('i', 'NN'), ('r', 'VBP'), (' ', 'JJ'), ('e', 'NN'), ('s', 'NN'), ('t', 'VBD'), ('a', 'DT'), ('t', 'NN'), ('e', 'NN'), (' ', 'NNP'), ('w', 'VBZ'), ('a', 'DT'), ('s', 'JJ'), (' ', 'NN'), ('l', 'NN'), ('a', 'DT'), ('r', 'NN'), ('g', 'NN'), ('e', 'NN'), (' ', 'NNP'), (',', ','), (' ', 'VBZ'), ('a', 'DT'), ('n', 'JJ'), ('d', 'NN'), (' ', 'NNP'), ('t', 'NN'), ('h', 'NN'), ('e', 'NN'), ('i', 'NN'), ('r', 'VBP'), (' ', 'JJ'), ('r', 'NN'), ('e', 'NN'), ('s', 'NN'), ('i', 'NN'), ('d', 'VBP'), ('e', 'NN'), ('n', 'JJ'), ('c', 'NN'), ('e', 'NN'), (' ', 'NNP'), ('w', 'VBZ'), ('a', 'DT'), ('s', 'JJ'), (' ', 'NN'), ('a', 'DT'), ('t', 'NN'), (' ', 'NNP'), ('N', 'NNP'), ('o', 'MD'), ('r', 'VB'), ('l', 'NN'), ('a', 'DT'), ('n', 'JJ'), ('d', 'NN'), (' ', 'NNP'), ('P', 'NNP'), ('a', 'DT'), ('r', 'NN'), ('k', 'NN'), (' ', 'NNP'), (',', ','), (' ', 'NNP'), ('i', 'VBP'), ('n', 'VBP'), (' ', 'JJ'), ('t', 'NN'), ('h', 'NN'), ('e', 'NN'), (' ', 'NNP'), ('c', 'VBZ'), ('e', 'FW'), ('n', 'JJ'), ('t', 'NN'), ('r', 'NN'), ('e', 'NN'), (' ', 'NNP'), ('o', 'VBZ'), ('f', 'JJ'), (' ', 'NNP'), ('t', 'NN'), ('h', 'NN'), ('e', 'NN'), ('i', 'NN'), ('r', 'VBP'), (' ', 'NN'), ('p', 'NN'), ('r', 'NN'), ('o', 'NN'), ('p', 'NN'), ('e', 'NN'), ('r', 'NN'), ('t', 'NN'), ('y', 'NN'), (' ', 'NNP'), (',', ','), (' ', 'NNP'), ('w', 'VBZ'), ('h', 'NN'), ('e', 'NN'), ('r', 'NN'), ('e', 'NN'), (' ', 'NNP'), (',', ','), (' ', 'NNP'), ('f', 'VBZ'), ('o', 'JJ'), ('r', 'NN'), (' ', 'NNP'), ('m', 'VBZ'), ('a', 'DT'), ('n', 'JJ'), ('y', 'NN'), (' ', 'NNP'), ('g', 'NN'), ('e', 'NN'), ('n', 'JJ'), ('e', 'NN'), ('r', 'VBZ'), ('a', 'DT'), ('t', 'NN'), ('i', 'NN'), ('o', 'VBP'), ('n', 'JJ'), ('s', 'NN'), (' ', 'NN'), (',', ','), (' ', 'NNP'), ('t', 'NN'), ('h', 'NN'), ('e', 'NN'), ('y', 'NN'), (' ', 'NNP'), ('h', 'VBZ'), ('a', 'DT'), ('d', 'NN'), (' ', 'NNP'), ('l', 'NN'), ('i', 'NN'), ('v', 'VBP'), ('e', 'NN'), ('d', 'NN'), (' ', 'NN'), ('i', 'NN'), ('n', 'VBP'), (' ', 'JJ'), ('s', 'NN'), ('o', 'NN'), (' ', 'NNP'), ('r', 'NN'), ('e', 'NN'), ('s', 'NN'), ('p', 'NN'), ('e', 'NN'), ('c', 'VBP'), ('t', 'VB'), ('a', 'DT'), ('b', 'NN'), ('l', 'NN'), ('e', 'NN'), (' ', 'VBZ'), ('a', 'DT'), (' ', 'JJ'), ('m', 'NN'), ('a', 'DT'), ('n', 'JJ'), ('n', 'NN'), ('e', 'NN'), ('r', 'NN'), (' ', 'VBZ'), ('a', 'DT'), ('s', 'JJ'), (' ', 'NN'), ('t', 'NN'), ('o', 'NN'), (' ', 'NNP'), ('e', 'NN'), ('n', 'RB'), ('g', 'VBZ'), ('a', 'DT'), ('g', 'NN'), ('e', 'NN'), (' ', 'NNP'), ('t', 'NN'), ('h', 'NN'), ('e', 'NN'), (' ', 'NNP'), ('g', 'NN'), ('e', 'NN'), ('n', 'JJ'), ('e', 'NN'), ('r', 'VBZ'), ('a', 'DT'), ('l', 'NN'), (' ', 'NNP'), ('g', 'NN'), ('o', 'NN'), ('o', 'NN'), ('d', 'NN'), (' ', 'NNP'), ('o', 'IN'), ('p', 'NN'), ('i', 'NN'), ('n', 'VBP'), ('i', 'NN'), ('o', 'VBP'), ('n', 'JJ'), (' ', 'NNP'), ('o', 'NN'), ('f', 'NN'), (' ', 'NNP'), ('t', 'NN'), ('h', 'NN'), ('e', 'NN'), ('i', 'NN'), ('r', 'VBP'), (' ', 'JJ'), ('s', 'NN'), ('u', 'JJ'), ('r', 'NN'), ('r', 'NN'), ('o', 'NN'), ('u', 'JJ'), ('n', 'JJ'), ('d', 'NN'), ('i', 'NN'), ('n', 'VBP'), ('g', 'NN'), (' ', 'VBP'), ('a', 'DT'), ('c', 'NN'), ('q', 'NN'), ('u', 'IN'), ('a', 'DT'), ('i', 'JJ'), ('n', 'NN'), ('t', 'VBD'), ('a', 'DT'), ('n', 'JJ'), ('c', 'NN'), ('e', 'NN'), (' ', 'NNP'), ('.', '.'), (' ', 'VB'), ('T', 'NNP'), ('h', 'NN'), ('e', 'NN'), (' ', 'NNP'), ('l', 'VBZ'), ('a', 'DT'), ('t', 'NN'), ('e', 'NN'), (' ', 'NNP'), ('o', 'VBZ'), ('w', 'JJ'), ('n', 'JJ'), ('e', 'NN'), ('r', 'NN'), (' ', 'NNP'), ('o', 'VBZ'), ('f', 'JJ'), (' ', 'NNP'), ('t', 'NN'), ('h', 'NN'), ('i', 'JJ'), ('s', 'VBP'), (' ', 'JJ'), ('e', 'NN'), ('s', 'NN'), ('t', 'VBD'), ('a', 'DT'), ('t', 'NN'), ('e', 'NN'), (' ', 'NNP'), ('w', 'VBZ'), ('a', 'DT'), ('s', 'JJ'), (' ', 'NN'), ('a', 'DT'), (' ', 'JJ'), ('s', 'NN'), ('i', 'NN'), ('n', 'VBP'), ('g', 'NN'), ('l', 'NN'), ('e', 'NN'), (' ', 'NNP'), ('m', 'VBZ'), ('a', 'DT'), ('n', 'JJ'), (' ', 'NN'), (',', ','), (' ', 'NNP'), ('w', 'VBZ'), ('h', 'JJ'), ('o', 'JJ'), (' ', 'NNP'), ('l', 'NN'), ('i', 'NN'), ('v', 'VBP'), ('e', 'NN'), ('d', 'NN'), (' ', 'NNP'), ('t', 'NN'), ('o', 'NN'), (' ', 'VBZ'), ('a', 'DT'), (' ', 'JJ'), ('v', 'NN'), ('e', 'NN'), ('r', 'NN'), ('y', 'NN'), (' ', 'VBZ'), ('a', 'DT'), ('d', 'NN'), ('v', 'NN'), ('a', 'DT'), ('n', 'JJ'), ('c', 'NN'), ('e', 'NN'), ('d', 'NN'), (' ', 'VBZ'), ('a', 'DT'), ('g', 'NN'), ('e', 'NN'), (' ', 'NNP'), (',', ','), (' ', 'VBZ'), ('a', 'DT'), ('n', 'JJ'), ('d', 'NN'), (' ', 'NNP'), ('w', 'NN'), ('h', 'NN'), ('o', 'JJ'), (' ', 'NNP'), ('f', 'NN'), ('o', 'NN'), ('r', 'NN'), (' ', 'NNP'), ('m', 'VBZ'), ('a', 'DT'), ('n', 'JJ'), ('y', 'NN'), (' ', 'NNP'), ('y', 'NNP'), ('e', 'VBZ'), ('a', 'DT'), ('r', 'NN'), ('s', 'NN'), (' ', 'NNP'), ('o', 'VBZ'), ('f', 'JJ'), (' ', 'NNP'), ('h', 'NN'), ('i', 'NN'), ('s', 'VBP'), (' ', 'IN'), ('l', 'NN'), ('i', 'NN'), ('f', 'VBP'), ('e', 'NN'), (' ', 'NN'), (',', ','), (' ', 'NNP'), ('h', 'VBZ'), ('a', 'DT'), ('d', 'NN'), (' ', 'VBZ'), ('a', 'DT'), (' ', 'JJ'), ('c', 'NN'), ('o', 'NN'), ('n', 'JJ'), ('s', 'NN'), ('t', 'VBD'), ('a', 'DT'), ('n', 'JJ'), ('t', 'NN'), (' ', 'NNP'), ('c', 'VBZ'), ('o', 'JJ'), ('m', 'NN'), ('p', 'VBZ'), ('a', 'DT'), ('n', 'NN'), ('i', 'NN'), ('o', 'VBP'), ('n', 'RB'), (' ', 'VBP'), ('a', 'DT'), ('n', 'JJ'), ('d', 'NN'), (' ', 'NNP'), ('h', 'NN'), ('o', 'NN'), ('u', 'JJ'), ('s', 'NN'), ('e', 'NN'), ('k', 'NN'), ('e', 'FW'), ('e', 'FW'), ('p', 'FW'), ('e', 'FW'), ('r', 'NN'), (' ', 'NN'), ('i', 'NN'), ('n', 'VBP'), (' ', 'IN'), ('h', 'NN'), ('i', 'NN'), ('s', 'VBP'), (' ', 'IN'), ('s', 'NN'), ('i', 'NN'), ('s', 'VBP'), ('t', 'NN'), ('e', 'NN'), ('r', 'NN'), (' ', 'NNP'), ('.', '.'), (' ', 'NN'), ('B', 'NNP'), ('u', 'NN'), ('t', 'NN'), (' ', 'NNP'), ('h', 'NN'), ('e', 'NN'), ('r', 'NN'), (' ', 'NNP'), ('d', 'NN'), ('e', 'VBZ'), ('a', 'DT'), ('t', 'NN'), ('h', 'NN'), (' ', 'NNP'), (',', ','), (' ', 'NNP'), ('w', 'VBP'), ('h', 'NN'), ('i', 'JJ'), ('c', 'VBP'), ('h', 'JJ'), (' ', 'NNP'), ('h', 'NN'), ('a', 'DT'), ('p', 'NN'), ('p', 'NN'), ('e', 'NN'), ('n', 'JJ'), ('e', 'NN'), ('d', 'NN'), (' ', 'NNP'), ('t', 'NN'), ('e', 'NN'), ('n', 'JJ'), (' ', 'NNP'), ('y', 'NN'), ('e', 'VBZ'), ('a', 'DT'), ('r', 'NN'), ('s', 'NN'), (' ', 'NN'), ('b', 'NN'), ('e', 'NN'), ('f', 'NN'), ('o', 'NN'), ('r', 'NN'), ('e', 'NN'), (' ', 'NNP'), ('h', 'NN'), ('i', 'NN'), ('s', 'VBP'), (' ', 'JJ'), ('o', 'NN'), ('w', 'NN'), ('n', 'JJ'), (' ', 'NNP'), (',', ','), (' ', 'NNP'), ('p', 'VBZ'), ('r', 'NN'), ('o', 'NN'), ('d', 'NN'), ('u', 'JJ'), ('c', 'NN'), ('e', 'NN'), ('d', 'NN'), (' ', 'VBZ'), ('a', 'DT'), (' ', 'NN'), ('g', 'NN'), ('r', 'NN'), ('e', 'VBZ'), ('a', 'DT'), ('t', 'NN'), (' ', 'VBZ'), ('a', 'DT'), ('l', 'NN'), ('t', 'NN'), ('e', 'NN'), ('r', 'VBZ'), ('a', 'DT'), ('t', 'NN'), ('i', 'NN'), ('o', 'VBP'), ('n', 'IN'), (' ', 'NN'), ('i', 'NN'), ('n', 'VBP'), (' ', 'IN'), ('h', 'NN'), ('i', 'NN'), ('s', 'VBP'), (' ', 'NN'), ('h', 'NN'), ('o', 'JJ'), ('m', 'NN'), ('e', 'NN'), (' ', 'NNP'), (';', ':'), (' ', 'NNP'), ('f', 'VBP'), ('o', 'JJ'), ('r', 'NN'), (' ', 'NNP'), ('t', 'NN'), ('o', 'NN'), (' ', 'NNP'), ('s', 'NN'), ('u', 'JJ'), ('p', 'NN'), ('p', 'NN'), ('l', 'NN'), ('y', 'NN'), (' ', 'NNP'), ('h', 'NN'), ('e', 'NN'), ('r', 'NN'), (' ', 'NNP'), ('l', 'NN'), ('o', 'NN'), ('s', 'NN'), ('s', 'NN'), (' ', 'NNP'), (',', ','), (' ', 'NNP'), ('h', 'VBZ'), ('e', 'JJ'), (' ', 'NNP'), ('i', 'NN'), ('n', 'VBP'), ('v', 'NN'), ('i', 'NN'), ('t', 'VBP'), ('e', 'NN'), ('d', 'NN'), (' ', 'VBZ'), ('a', 'DT'), ('n', 'JJ'), ('d', 'NN'), (' ', 'NNP'), ('r', 'NN'), ('e', 'NN'), ('c', 'VBP'), ('e', 'NN'), ('i', 'NN'), ('v', 'VBP'), ('e', 'NN'), ('d', 'NN'), (' ', 'NN'), ('i', 'NN'), ('n', 'VBP'), ('t', 'NN'), ('o', 'NN'), (' ', 'NNP'), ('h', 'NN'), ('i', 'NN'), ('s', 'VBP'), (' ', 'NN'), ('h', 'NN'), ('o', 'JJ'), ('u', 'JJ'), ('s', 'NN'), ('e', 'NN'), (' ', 'NNP'), ('t', 'NN'), ('h', 'NN'), ('e', 'NN'), (' ', 'NNP'), ('f', 'VBZ'), ('a', 'DT'), ('m', 'NN'), ('i', 'NN'), ('l', 'VBP'), ('y', 'NN'), (' ', 'NNP'), ('o', 'VBZ'), ('f', 'JJ'), (' ', 'NNP'), ('h', 'NN'), ('i', 'NN'), ('s', 'VBP'), (' ', 'JJ'), ('n', 'JJ'), ('e', 'NN'), ('p', 'NN'), ('h', 'NN'), ('e', 'NN'), ('w', 'NN'), (' ', 'NNP'), ('M', 'NNP'), ('r', 'NN'), (' ', 'NNP'), ('.', '.'), (' ', 'NN'), ('H', 'NNP'), ('e', 'NN'), ('n', 'RB'), ('r', 'VBZ'), ('y', 'JJ'), (' ', 'NNP'), ('D', 'NNP'), ('a', 'DT'), ('s', 'JJ'), ('h', 'NN'), ('w', 'NN'), ('o', 'NN'), ('o', 'NN'), ('d', 'NN'), (' ', 'NNP'), (',', ','), (' ', 'NNP'), ('t', 'NN'), ('h', 'NN'), ('e', 'NN'), (' ', 'NNP'), ('l', 'NN'), ('e', 'NN'), ('g', 'VBD'), ('a', 'DT'), ('l', 'NN'), (' ', 'NN'), ('i', 'NN'), ('n', 'VBP'), ('h', 'NN'), ('e', 'NN'), ('r', 'NN'), ('i', 'NN'), ('t', 'VBP'), ('o', 'JJ'), ('r', 'NN'), (' ', 'NNP'), ('o', 'VBZ'), ('f', 'JJ'), (' ', 'NNP'), ('t', 'NN'), ('h', 'NN'), ('e', 'NN'), (' ', 'NNP'), ('N', 'NNP'), ('o', 'MD'), ('r', 'VB'), ('l', 'NN'), ('a', 'DT'), ('n', 'JJ'), ('d', 'NN'), (' ', 'NNP'), ('e', 'NN'), ('s', 'NN'), ('t', 'VBD'), ('a', 'DT'), ('t', 'NN'), ('e', 'NN'), (' ', 'NNP'), (',', ','), (' ', 'VBZ'), ('a', 'DT'), ('n', 'JJ'), ('d', 'NN'), (' ', 'NNP'), ('t', 'NN'), ('h', 'NN'), ('e', 'NN'), (' ', 'NNP'), ('p', 'NN'), ('e', 'NN'), ('r', 'NN'), ('s', 'NN'), ('o', 'NN'), ('n', 'JJ'), (' ', 'NNP'), ('t', 'NN'), ('o', 'NN'), (' ', 'NNP'), ('w', 'NN'), ('h', 'NN'), ('o', 'JJ'), ('m', 'NN'), (' ', 'NNP'), ('h', 'NN'), ('e', 'NN'), (' ', 'NNP'), ('i', 'NN'), ('n', 'VBP'), ('t', 'NN'), ('e', 'NN'), ('n', 'JJ'), ('d', 'NN'), ('e', 'NN'), ('d', 'NN'), (' ', 'NNP'), ('t', 'NN'), ('o', 'NN'), (' ', 'NN'), ('b', 'NN'), ('e', 'NN'), ('q', 'NN'), ('u', 'JJ'), ('e', 'VBZ'), ('a', 'DT'), ('t', 'NN'), ('h', 'NN'), (' ', 'NN'), ('i', 'NN'), ('t', 'VBP'), (' ', 'NN'), ('.', '.'), (' ', 'NN'), ('I', 'PRP'), ('n', 'VBP'), (' ', 'JJ'), ('t', 'NN'), ('h', 'NN'), ('e', 'NN'), (' ', 'NNP'), ('s', 'NN'), ('o', 'IN'), ('c', 'NN'), ('i', 'NN'), ('e', 'VBP'), ('t', 'NN'), ('y', 'NN'), (' ', 'NNP'), ('o', 'VBZ'), ('f', 'JJ'), (' ', 'NNP'), ('h', 'NN'), ('i', 'NN'), ('s', 'VBP'), (' ', 'JJ'), ('n', 'JJ'), ('e', 'NN'), ('p', 'NN'), ('h', 'NN'), ('e', 'NN'), ('w', 'WRB'), (' ', 'VBZ'), ('a', 'DT'), ('n', 'JJ'), ('d', 'NN'), (' ', 'NNP'), ('n', 'NN'), ('i', 'NN'), ('e', 'VBP'), ('c', 'NNS'), ('e', 'VBP'), (' ', 'NNP'), (',', ','), (' ', 'VBZ'), ('a', 'DT'), ('n', 'JJ'), ('d', 'NN'), (' ', 'NNP'), ('t', 'NN'), ('h', 'NN'), ('e', 'NN'), ('i', 'NN'), ('r', 'VBP'), (' ', 'NNP'), ('c', 'VBP'), ('h', 'NN'), ('i', 'JJ'), ('l', 'NN'), ('d', 'NN'), ('r', 'NN'), ('e', 'NN'), ('n', 'JJ'), (' ', 'NNP'), (',', ','), (' ', 'NNP'), ('t', 'NN'), ('h', 'NN'), ('e', 'NN'), (' ', 'NNP'), ('o', 'VBZ'), ('l', 'JJ'), ('d', 'NN'), (' ', 'NNP'), ('G', 'NNP'), ('e', 'NN'), ('n', 'RB'), ('t', 'JJ'), ('l', 'NN'), ('e', 'NN'), ('m', 'VBD'), ('a', 'DT'), ('n', 'JJ'), (' ', 'NN'), (\"'\", 'POS'), (' ', 'NNP'), ('s', 'NN'), (' ', 'NNP'), ('d', 'VBZ'), ('a', 'DT'), ('y', 'NN'), ('s', 'NN'), (' ', 'NNP'), ('w', 'NN'), ('e', 'NN'), ('r', 'NN'), ('e', 'NN'), (' ', 'NNP'), ('c', 'VBZ'), ('o', 'JJ'), ('m', 'NN'), ('f', 'NN'), ('o', 'NN'), ('r', 'NN'), ('t', 'VBD'), ('a', 'DT'), ('b', 'NN'), ('l', 'NN'), ('y', 'NN'), (' ', 'NNP'), ('s', 'NN'), ('p', 'NN'), ('e', 'NN'), ('n', 'JJ'), ('t', 'NN'), (' ', 'NNP'), ('.', '.'), (' ', 'NN'), ('H', 'NNP'), ('i', 'NN'), ('s', 'VBP'), (' ', 'PDT'), ('a', 'DT'), ('t', 'NN'), ('t', 'NN'), ('a', 'DT'), ('c', 'NN'), ('h', 'NN'), ('m', 'NN'), ('e', 'NN'), ('n', 'JJ'), ('t', 'NN'), (' ', 'NNP'), ('t', 'NN'), ('o', 'NN'), (' ', 'NNP'), ('t', 'NN'), ('h', 'NN'), ('e', 'NN'), ('m', 'NN'), (' ', 'VBZ'), ('a', 'DT'), ('l', 'NN'), ('l', 'NN'), (' ', 'NN'), ('i', 'NN'), ('n', 'VBP'), ('c', 'NN'), ('r', 'NN'), ('e', 'VBZ'), ('a', 'DT'), ('s', 'JJ'), ('e', 'NN'), ('d', 'NN'), (' ', 'NNP'), ('.', '.'), (' ', 'VB'), ('T', 'NNP'), ('h', 'NN'), ('e', 'NN'), (' ', 'NNP'), ('c', 'VBZ'), ('o', 'JJ'), ('n', 'JJ'), ('s', 'NN'), ('t', 'VBD'), ('a', 'DT'), ('n', 'JJ'), ('t', 'NN')]\n"
     ]
    }
   ],
   "source": [
    "tagged = nltk.pos_tag(concat)\n",
    "print(tagged)"
   ]
  },
  {
   "cell_type": "code",
   "execution_count": 26,
   "metadata": {},
   "outputs": [
    {
     "name": "stdout",
     "output_type": "stream",
     "text": [
      "Previous\n",
      ": [ Sense and Sensibility by Jane Austen 1811 ] CHAPTER 1 The family of Dashwood had long been settled in Sussex . Their estate was large , and their residence was at Norland Park , in the centre of their property , where , for many generations , they had lived in so respectable a manner as to engage the general good opinion of their surrounding acquaintance . The late owner of this estate was a single man , who lived to a very advanced age , and who for many years of his life , had a constant companion and housekeeper in his sister . But her death , which happened ten years before his own , produced a great alteration in his home ; for to supply her loss , he invited and received into his house the family of his nephew Mr . Henry Dashwood , the legal inheritor of the Norland estate , and the person to whom he intended to bequeath it . In the society of his nephew and niece , and their children , the old Gentleman ' s days were comfortably spent . His attachment to them all increased . The constant\n",
      "New:\n",
      "[ sens and sensibl by jane austen 1811 ] chapter 1 the famili of dashwood had long been settl in sussex . their estat wa larg , and their resid wa at norland park , in the centr of their properti , where , for mani gener , they had live in so respect a manner as to engag the gener good opinion of their surround acquaint . the late owner of thi estat wa a singl man , who live to a veri advanc age , and who for mani year of hi life , had a constant companion and housekeep in hi sister . but her death , which happen ten year befor hi own , produc a great alter in hi home ; for to suppli her loss , he invit and receiv into hi hous the famili of hi nephew Mr . henri dashwood , the legal inheritor of the norland estat , and the person to whom he intend to bequeath it . In the societi of hi nephew and niec , and their children , the old gentleman ' s day were comfort spent . hi attach to them all increas . the constant\n"
     ]
    }
   ],
   "source": [
    "stemmer = PorterStemmer()\n",
    "print(\"Previous\\n:\",concat)\n",
    "\n",
    "concat = [stemmer.stem(token) for token in concat.split(\" \")]\n",
    "print(\"New:\")\n",
    "print(\" \".join(concat))"
   ]
  },
  {
   "cell_type": "code",
   "execution_count": null,
   "metadata": {},
   "outputs": [],
   "source": []
  }
 ],
 "metadata": {
  "kernelspec": {
   "display_name": "Python 3",
   "language": "python",
   "name": "python3"
  },
  "language_info": {
   "codemirror_mode": {
    "name": "ipython",
    "version": 3
   },
   "file_extension": ".py",
   "mimetype": "text/x-python",
   "name": "python",
   "nbconvert_exporter": "python",
   "pygments_lexer": "ipython3",
   "version": "3.7.4"
  }
 },
 "nbformat": 4,
 "nbformat_minor": 2
}
